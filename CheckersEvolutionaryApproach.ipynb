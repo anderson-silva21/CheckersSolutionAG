{
  "nbformat": 4,
  "nbformat_minor": 0,
  "metadata": {
    "colab": {
      "provenance": [],
      "collapsed_sections": [],
      "include_colab_link": true
    },
    "kernelspec": {
      "name": "python3",
      "display_name": "Python 3"
    },
    "language_info": {
      "name": "python"
    }
  },
  "cells": [
    {
      "cell_type": "markdown",
      "metadata": {
        "id": "view-in-github",
        "colab_type": "text"
      },
      "source": [
        "<a href=\"https://colab.research.google.com/github/anderson-silva21/CheckersSolutionAG/blob/anderson-branch/CheckersEvolutionaryApproach.ipynb\" target=\"_parent\"><img src=\"https://colab.research.google.com/assets/colab-badge.svg\" alt=\"Open In Colab\"/></a>"
      ]
    },
    {
      "cell_type": "markdown",
      "source": [
        "Método:\n",
        "\n",
        "\n",
        "1.Gere uma população inicial de indivíduos aleatoriamente.\n",
        "\n",
        "2.Avalie a aptidão de cada indivíduo na população.\n",
        "\n",
        "3.Repita quantas vezes quiser:\n",
        "\n",
        "  a) Selecione indivíduos com uma boa pontuação de aptidão para reprodução.\n",
        "\n",
        "  b) Deixe-os produzir descendentes.\n",
        "\n",
        "  c) Mudar esses descendentes.\n",
        "\n",
        "  d) Avaliar a aptidão de cada indivíduo na população.\n",
        "\n",
        "  f) Deixe que os indivíduos com um score de aptidão ruim morram.\n",
        "  \n",
        "4.Escolha o indivíduo com a maior aptidão como solução."
      ],
      "metadata": {
        "id": "rqHOKfDmvAR1"
      }
    },
    {
      "cell_type": "markdown",
      "source": [
        "--------------------------------------------------------------------------------"
      ],
      "metadata": {
        "id": "lycqbxdCviqU"
      }
    },
    {
      "cell_type": "markdown",
      "source": [
        "Quais são os indivíduos? R: Soluções potenciais para o problema.\n",
        "\n",
        "Quantos indivíduos estão na primeira população e como eles são gerados? R: precisa inventar. Se não tem ideia de qual poderia ser a solução, escolha a população inicial o mais aleatória possível.\n",
        "\n",
        "Qual pontuação de condicionamento físico? R: inventar isso também. Nossa solução deve ter a pontuação de aptidão mais alta.\n",
        "\n",
        "Quantos pais produzem quantos filhos? E como exatamente? R: inventar isso também\n",
        "\n",
        "Como mutar? R: Altere os descendentes um pouco probabilisticamente. Esta é uma boa maneira de explorar mais soluções possíveis em diferentes lugares e não seguir o caminho errado de forma determinística.\n",
        "\n",
        "Quantos indivíduos morrem? R: Quantos você quiser. Talvez seja bom manter a população do mesmo tamanho ao longo dos degraus, caso contrário o tamanho da população pode explodir ou todos morrem em algum momento.\n",
        "\n",
        "Repetir com que frequência? R: Quantas vezes você quiser. Apenas verifique algumas vezes, até ver que as soluções não melhoram mais."
      ],
      "metadata": {
        "id": "w9RsZVLrvliU"
      }
    },
    {
      "cell_type": "markdown",
      "source": [
        "--------------------------------------------------------------------------------"
      ],
      "metadata": {
        "id": "VLGCSDbuvqXA"
      }
    },
    {
      "cell_type": "markdown",
      "source": [
        "Necessary imports"
      ],
      "metadata": {
        "id": "7e-8B9gms7yG"
      }
    },
    {
      "cell_type": "code",
      "execution_count": 96,
      "metadata": {
        "id": "SAvjIhxgsmst"
      },
      "outputs": [],
      "source": [
        "import numpy as np\n",
        "from abc import ABC, abstractmethod"
      ]
    },
    {
      "cell_type": "markdown",
      "source": [
        "Class to define genetic algorithm structure"
      ],
      "metadata": {
        "id": "D3IaLUR7tLoK"
      }
    },
    {
      "cell_type": "code",
      "source": [
        "class Individual(ABC):\n",
        "    def __init__(self, val=None, init_params=None):\n",
        "        if val is not None:\n",
        "            self.val = val\n",
        "        else:\n",
        "            self.val = self.random_init(init_params)\n",
        "\n",
        "    @abstractmethod\n",
        "    def paridade(self, other, paridade_params):\n",
        "        pass\n",
        "\n",
        "    @abstractmethod\n",
        "    def mutacao(self, mutacao_params):\n",
        "        pass\n",
        "\n",
        "    @abstractmethod\n",
        "    def random_init(self, init_params):\n",
        "        pass"
      ],
      "metadata": {
        "id": "HJMvc_iVtKfi"
      },
      "execution_count": 97,
      "outputs": []
    },
    {
      "cell_type": "markdown",
      "source": [
        "Algoritmo genetico para o jogo de damas"
      ],
      "metadata": {
        "id": "YQjg-BqOta9f"
      }
    },
    {
      "cell_type": "code",
      "source": [
        "class Checkers(Individual):\n",
        "    def paridade(self, other, pair_params):\n",
        "        return Checkers(pair_params['alpha'] * self.val + (1 - pair_params['alpha']) * other.val)\n",
        "\n",
        "    def mutacao(self, mutate_params):\n",
        "        for _ in range(mutate_params['rate']):\n",
        "            i, j = np.random.choice(range(len(self.value)), 2, replace=False)\n",
        "            self.value[i], self.value[j] = self.value[j], self.value[i]\n",
        "\n",
        "    def random_init(self, init_params):\n",
        "        return np.random.choice(range(init_params['n_Enemy_Pecas']), init_params['n_Enemy_Pecas'], replace=False)"
      ],
      "metadata": {
        "id": "iTT_ZYcgtaFx"
      },
      "execution_count": 98,
      "outputs": []
    },
    {
      "cell_type": "markdown",
      "source": [
        "Population"
      ],
      "metadata": {
        "id": "-AaLRuPBtkVG"
      }
    },
    {
      "cell_type": "code",
      "source": [
        "from numpy.lib.npyio import packbits\n",
        "class Populacao:\n",
        "    def __init__(self, size, fitness, individual_class, init_params):\n",
        "        self.fitness = fitness\n",
        "        self.individuals = [individual_class(init_params=init_params) for _ in range(size)]\n",
        "        self.individuals.sort(key=lambda x: self.fitness(x))\n",
        "\n",
        "    def substituicao(self, new_individuals):\n",
        "        size = len(self.individuals)\n",
        "        self.individuals.extend(new_individuals)\n",
        "        self.individuals.sort(key=lambda x: self.fitness(x))\n",
        "        self.individuals = self.individuals[-size:]\n",
        "\n",
        "    def get_parents(self, n_filhos):\n",
        "        maes = self.individuals[-2 * n_filhos::2]\n",
        "        pais = self.individuals[-2 * n_filhos + 1::2]\n",
        "\n",
        "        return maes, pais"
      ],
      "metadata": {
        "id": "gHXCMxn0teMK"
      },
      "execution_count": 99,
      "outputs": []
    },
    {
      "cell_type": "markdown",
      "source": [
        "Evolution"
      ],
      "metadata": {
        "id": "32LvembhtrXO"
      }
    },
    {
      "cell_type": "code",
      "source": [
        "class Evolucao:\n",
        "    def __init__(self, pool_size, fitness, individual_class, n_filhos, pair_params, mutate_params, init_params):\n",
        "        self.pair_params = pair_params\n",
        "        self.mutate_params = mutate_params\n",
        "        self.pool = Populacao(pool_size, fitness, individual_class, init_params)\n",
        "        self.n_filhos = n_filhos\n",
        "\n",
        "    def etapa(self):\n",
        "        maes, pais = self.pool.get_parents(self.n_filhos)\n",
        "        filhos = []\n",
        "\n",
        "        for mae, pai in zip(maes, pais):\n",
        "            filho = mae.paridade(pai, self.pair_params)\n",
        "            filho.mutacao(self.mutate_params)\n",
        "            filhos.append(filho)\n",
        "\n",
        "        self.pool.substituicao(filhos)"
      ],
      "metadata": {
        "id": "Iittm0bAtl8B"
      },
      "execution_count": 100,
      "outputs": []
    },
    {
      "cell_type": "markdown",
      "source": [
        "main code"
      ],
      "metadata": {
        "id": "bKugnbCs5Oxz"
      }
    },
    {
      "cell_type": "code",
      "source": [
        "def checkers_fitness_creator(EnemyPecas):\n",
        "    matrix = []\n",
        "    for city in EnemyPecas:\n",
        "        row = []\n",
        "        for city_ in EnemyPecas:\n",
        "            row.append(np.linalg.norm(city - city_))\n",
        "        matrix.append(row)\n",
        "    distances = np.array(matrix)\n",
        "\n",
        "    def fitness(checkers):\n",
        "        res = 0\n",
        "        for i in range(len(checkers.value)):\n",
        "            res += distances[checkers.value[i], checkers.value[(i + 1) % len(checkers.value)]]\n",
        "        return -res\n",
        "\n",
        "    return fitness\n",
        "\n",
        "evo = Evolucao(\n",
        "    pool_size=10, fitness=checkers_fitness_creator, individual_class=Checkers, n_filhos=7,\n",
        "    pair_params={'alpha': 0.5},\n",
        "    mutate_params={'rate': 0.25},\n",
        "    init_params={'n_Enemy_Pecas': 12}\n",
        ")\n",
        "n_epocas = 100\n",
        "\n",
        "for i in range(n_epocas):\n",
        "    evo.etapa()\n",
        "\n",
        "print(evo.pool.individuals[-1].val)"
      ],
      "metadata": {
        "colab": {
          "base_uri": "https://localhost:8080/"
        },
        "id": "0TqbieYv5N7D",
        "outputId": "806f469d-bdde-4381-b044-4cf6e28e7a68"
      },
      "execution_count": 101,
      "outputs": [
        {
          "output_type": "stream",
          "name": "stdout",
          "text": [
            "[3.53844253]\n"
          ]
        }
      ]
    }
  ]
}